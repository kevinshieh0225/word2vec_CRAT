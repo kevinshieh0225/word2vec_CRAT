{
 "cells": [
  {
   "cell_type": "code",
   "execution_count": 28,
   "metadata": {},
   "outputs": [],
   "source": [
    "import regex"
   ]
  },
  {
   "cell_type": "code",
   "execution_count": 29,
   "metadata": {},
   "outputs": [],
   "source": [
    "from bs4 import BeautifulSoup"
   ]
  },
  {
   "cell_type": "code",
   "execution_count": 30,
   "metadata": {},
   "outputs": [],
   "source": [
    "import xlrd"
   ]
  },
  {
   "cell_type": "code",
   "execution_count": 31,
   "metadata": {},
   "outputs": [
    {
     "name": "stdout",
     "output_type": "stream",
     "text": [
      "<xlrd.sheet.Sheet object at 0x000001F424912128>\n",
      "59866\n"
     ]
    }
   ],
   "source": [
    "wb = xlrd.open_workbook(\"edu/edu_dict/dict_revised_2015_20190329_1.xls\")\n",
    "table = wb.sheets()[0]\n",
    "print(table)\n",
    "nrows_1 = table.nrows\n",
    "print(nrows_1)\n",
    "\n",
    "wb = xlrd.open_workbook(\"edu/edu_dict/dict_revised_2015_20190329_2.xls\")\n",
    "table = wb.sheets()[0]\n",
    "nrows_2 = table.nrows\n",
    "\n",
    "wb = xlrd.open_workbook(\"edu/edu_dict/dict_revised_2015_20190329_3.xls\")\n",
    "table = wb.sheets()[0]\n",
    "nrows_3 = table.nrows"
   ]
  },
  {
   "cell_type": "code",
   "execution_count": 32,
   "metadata": {},
   "outputs": [
    {
     "name": "stdout",
     "output_type": "stream",
     "text": [
      "<class 'list'>\n"
     ]
    }
   ],
   "source": [
    "import xlrd\n",
    "wb = xlrd.open_workbook(\"edu/edu_dict/dict_revised_2015_20190329_1.xls\")\n",
    "data = {}\n",
    "table = wb.sheets()[0]\n",
    "nrows = table.nrows\n",
    "for i in range(nrows):\n",
    "    if i ==0:\n",
    "        continue\n",
    "    data[table.row_values(i)[2]] = 0\n",
    "wb = xlrd.open_workbook(\"edu/edu_dict/dict_revised_2015_20190329_2.xls\") \n",
    "table = wb.sheets()[0]\n",
    "nrows = table.nrows\n",
    "for i in range(nrows):\n",
    "    if i ==0:\n",
    "        continue\n",
    "    data[table.row_values(i)[2]] = 0\n",
    "wb = xlrd.open_workbook(\"edu/edu_dict/dict_revised_2015_20190329_3.xls\") \n",
    "table = wb.sheets()[0]\n",
    "nrows = table.nrows\n",
    "for i in range(nrows):\n",
    "    if i ==0:\n",
    "        continue\n",
    "    data[table.row_values(i)[2]] = 0\n",
    "word = list(data.keys())\n",
    "print(type(word))"
   ]
  },
  {
   "cell_type": "code",
   "execution_count": 33,
   "metadata": {},
   "outputs": [
    {
     "name": "stdout",
     "output_type": "stream",
     "text": [
      "162762\n"
     ]
    }
   ],
   "source": [
    "print(len(word))"
   ]
  },
  {
   "cell_type": "code",
   "execution_count": 34,
   "metadata": {},
   "outputs": [],
   "source": [
    "pattern = '([\\p{Han}]+)' #抓漢字的正則運算法"
   ]
  },
  {
   "cell_type": "code",
   "execution_count": 35,
   "metadata": {},
   "outputs": [],
   "source": [
    "path = \"asbc_a_001.xml\" #这里是需要爬取的本地頁面\n",
    "htmlfile = open(path, 'r', encoding='utf-8')\n",
    "#開啟檔案"
   ]
  },
  {
   "cell_type": "code",
   "execution_count": 36,
   "metadata": {},
   "outputs": [],
   "source": [
    "soup = BeautifulSoup(htmlfile, 'xml') #这里是将content内容转化为BeautifulSoup格式的数据\n",
    "arcticle_sentence = []\n",
    "for arcticle in soup.find_all('article'):\n",
    "    arcticle_sentence.append(arcticle.find_all('sentence'))\n",
    "#將article標籤裡的sentence標籤抓出來"
   ]
  },
  {
   "cell_type": "code",
   "execution_count": 37,
   "metadata": {},
   "outputs": [],
   "source": [
    "fp = open(\"asbc_a_001_write_edu.txt\", \"w\", encoding=\"utf-8\")"
   ]
  },
  {
   "cell_type": "code",
   "execution_count": 38,
   "metadata": {},
   "outputs": [],
   "source": [
    "for sentence in arcticle_sentence:\n",
    "    m = []\n",
    "    m = regex.findall(pattern, str(sentence))#regex抓漢字\n",
    "    for i in m:\n",
    "        if i in word:\n",
    "            fp.write(i + \" \")\n",
    "    fp.write(\"\\n\\n\")\n",
    "#以sentence為單位將漢字抓出寫入"
   ]
  },
  {
   "cell_type": "code",
   "execution_count": 39,
   "metadata": {},
   "outputs": [
    {
     "data": {
      "text/plain": [
       "<function TextIOWrapper.close()>"
      ]
     },
     "execution_count": 39,
     "metadata": {},
     "output_type": "execute_result"
    }
   ],
   "source": [
    "fp.close"
   ]
  },
  {
   "cell_type": "code",
   "execution_count": null,
   "metadata": {},
   "outputs": [],
   "source": []
  }
 ],
 "metadata": {
  "kernelspec": {
   "display_name": "Python 3",
   "language": "python",
   "name": "python3"
  },
  "language_info": {
   "codemirror_mode": {
    "name": "ipython",
    "version": 3
   },
   "file_extension": ".py",
   "mimetype": "text/x-python",
   "name": "python",
   "nbconvert_exporter": "python",
   "pygments_lexer": "ipython3",
   "version": "3.7.3"
  }
 },
 "nbformat": 4,
 "nbformat_minor": 2
}
