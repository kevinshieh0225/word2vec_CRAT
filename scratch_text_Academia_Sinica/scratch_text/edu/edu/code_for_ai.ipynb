{
 "cells": [
  {
   "cell_type": "code",
   "execution_count": null,
   "metadata": {},
   "outputs": [],
   "source": [
    "f = open(\"WordsCount.txt\",encoding=\"utf-8\")\n",
    "data_counts = {}\n",
    "line = f.readline()\n",
    "line = f.readline()\n",
    "while(line):\n",
    "    word = line.split()\n",
    "    data_counts[word[0]] = word[1]\n",
    "    line = f.readline()\n",
    "f.close()\n",
    "\n",
    "key = list(data_counts.keys())\n",
    "value = list(data_counts.values())"
   ]
  },
  {
   "cell_type": "code",
   "execution_count": null,
   "metadata": {},
   "outputs": [],
   "source": [
    "import xlrd\n",
    "wb = xlrd.open_workbook(\"教育部辭典庫/dict_revised_2015_20190329_1.xls\")\n",
    "data = {}\n",
    "table = wb.sheets()[0]\n",
    "nrows = table.nrows\n",
    "for i in range(nrows):\n",
    "    if i ==0:\n",
    "        continue\n",
    "    data[table.row_values(i)[2]] = 0\n",
    "wb = xlrd.open_workbook(\"教育部辭典庫/dict_revised_2015_20190329_2.xls\") \n",
    "table = wb.sheets()[0]\n",
    "nrows = table.nrows\n",
    "for i in range(nrows):\n",
    "    if i ==0:\n",
    "        continue\n",
    "    data[table.row_values(i)[2]] = 0\n",
    "wb = xlrd.open_workbook(\"教育部辭典庫/dict_revised_2015_20190329_3.xls\") \n",
    "table = wb.sheets()[0]\n",
    "nrows = table.nrows\n",
    "for i in range(nrows):\n",
    "    if i ==0:\n",
    "        continue\n",
    "    data[table.row_values(i)[2]] = 0\n",
    "word = list(data.keys())"
   ]
  },
  {
   "cell_type": "code",
   "execution_count": null,
   "metadata": {},
   "outputs": [],
   "source": [
    "f = open(\"fin_try.txt\",'w')\n",
    "j= 1\n",
    "ex = []\n",
    "f.write(\"標號\" + '\\t' + \"字詞\" + '\\t' + \"詞頻\" + '\\n')\n",
    "for i in range(len(key)):\n",
    "    k = i\n",
    "    try:\n",
    "        if (key[i] in word):\n",
    "            f.write(str(j) + '\\t' + str(key[i]) + '\\t' + str(value[i]) + '\\n')\n",
    "            j += 1\n",
    "    except UnicodeEncodeError:     \n",
    "        f.write(str(j) + '\\t' + str(k) + '\\t' + str('3') + '\\n')\n",
    "        j+=1\n",
    "        ex.append(k)\n",
    "        continue\n",
    "       \n",
    "f.close()\n",
    "#處理編碼問題"
   ]
  },
  {
   "cell_type": "code",
   "execution_count": null,
   "metadata": {},
   "outputs": [],
   "source": []
  }
 ],
 "metadata": {
  "kernelspec": {
   "display_name": "Python 3",
   "language": "python",
   "name": "python3"
  },
  "language_info": {
   "codemirror_mode": {
    "name": "ipython",
    "version": 3
   },
   "file_extension": ".py",
   "mimetype": "text/x-python",
   "name": "python",
   "nbconvert_exporter": "python",
   "pygments_lexer": "ipython3",
   "version": "3.7.3"
  }
 },
 "nbformat": 4,
 "nbformat_minor": 2
}
