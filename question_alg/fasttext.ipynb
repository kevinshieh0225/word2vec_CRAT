{
 "cells": [
  {
   "cell_type": "code",
   "execution_count": 4,
   "metadata": {},
   "outputs": [],
   "source": [
    "import io\n",
    "from IPython.display import clear_output\n",
    "import regex\n",
    "from opencc import OpenCC\n",
    "from gensim.models import KeyedVectors\n",
    "import math\n",
    "from os import listdir\n",
    "from os.path import isfile, isdir, join\n",
    "import os\n",
    "import requests"
   ]
  },
  {
   "cell_type": "code",
   "execution_count": 38,
   "metadata": {},
   "outputs": [],
   "source": [
    "#festtest_chinese讀檔\n",
    "def load_vectors(fname):\n",
    "    global AL_CBOW_Data\n",
    "    print('初始化中')\n",
    "    AL_CBOW_Data = KeyedVectors.load_word2vec_format('cc.zh.300.vec')\n",
    "    clear_output(wait=True)\n",
    "    print('完成')\n",
    "    return\n"
   ]
  },
  {
   "cell_type": "code",
   "execution_count": 39,
   "metadata": {},
   "outputs": [],
   "source": [
    "#cosine距離運算\n",
    "def cosine_meansure(word1,word2):\n",
    "    word1 = OpenCC('s2t').convert(word1)\n",
    "    word2 = OpenCC('s2t').convert(word2)\n",
    "    #判斷此兩個詞是否有出現過\n",
    "    if (not word1 in AL_CBOW_Data) :\n",
    "        print('We do not have ['+word1+']')\n",
    "    if (not word2 in AL_CBOW_Data) :\n",
    "        print('We do not have ['+word2+']')\n",
    "    if(not word1 in AL_CBOW_Data) or (not word2 in AL_CBOW_Data) :\n",
    "        #print('出現此訊息，代表因為我們產生Word2Vec的資料庫沒有這個詞彙，所以無法計算!')\n",
    "        return 0.0\n",
    "    #開始計算餘弦相關性\n",
    "    molecule_A = 0.0 #詞彙1的分母計算\n",
    "    molecule_B = 0.0 #詞彙2的分母計算\n",
    "    Denominator = 0.0 #交互的分子計算\n",
    "    for index in range(len(AL_CBOW_Data[word1])):\n",
    "        Denominator += AL_CBOW_Data[word1][index] * AL_CBOW_Data[word2][index]\n",
    "        molecule_A += AL_CBOW_Data[word1][index] * AL_CBOW_Data[word1][index]\n",
    "        molecule_B += AL_CBOW_Data[word2][index] * AL_CBOW_Data[word2][index]\n",
    "    molecule_all = math.sqrt(molecule_A)*math.sqrt(molecule_B)\n",
    "    return (Denominator / molecule_all)\n"
   ]
  },
  {
   "cell_type": "code",
   "execution_count": 40,
   "metadata": {},
   "outputs": [],
   "source": [
    "#先把題組間的距離算好\n",
    "def ready_for_distance(dictionary_a2p,key):#dictionary_a2p is list;key = the answer\n",
    "    data_a2p = []\n",
    "    data_p2p = [[0 for i in range(len(dictionary_a2p))] for j in range(len(dictionary_a2p))]\n",
    "    \n",
    "    count = 0\n",
    "    print('計算' + key)\n",
    "    for value in dictionary_a2p:\n",
    "        data_a2p.append (cosine_meansure(key,value))\n",
    "        #print('第'+str(count)+'數'+value+'與a：'+str(data_a2p[count]))\n",
    "        count += 1\n",
    "    \n",
    "    for i in range(len(dictionary_a2p)):\n",
    "        clear_output(wait=True)\n",
    "        print('計算' +'第'+str(i)+'數'+ dictionary_a2p[i])\n",
    "        for j in range(i+1,len(dictionary_a2p)):\n",
    "            data_p2p[i][j] = cosine_meansure(dictionary_a2p[i],dictionary_a2p[j])\n",
    "            #print('第'+str(i)+'數'+dictionary_a2p[i]+'與'+str(j)+'數'+dictionary_a2p[j]+'：'+str(data_p2p[i][j]))\n",
    "    \n",
    "    return data_a2p , data_p2p"
   ]
  },
  {
   "cell_type": "code",
   "execution_count": 41,
   "metadata": {},
   "outputs": [],
   "source": [
    "#好題目評分\n",
    "def standard( atp1, atp2, atp3, p1tp2, p1tp3, p2tp3):\n",
    "    sum_a2p = atp1 + atp2 + atp3\n",
    "    sum_p2p = p1tp2 + p1tp3 + p2tp3\n",
    "    standard_ = sum_a2p - sum_p2p\n",
    "    return standard_"
   ]
  },
  {
   "cell_type": "code",
   "execution_count": 51,
   "metadata": {},
   "outputs": [],
   "source": [
    "#整理題目分數大小，並輸出\n",
    "def datasort(ans_list,data,name,data_a2p,data_p2p): #data須為dict類別,依照values排列順序\n",
    "    print(data)\n",
    "    data.sort(key=lambda x: x[3], reverse=True)\n",
    "    wp = open(\"./standard/sum/ptp權重x1/\"+name+\".txt\",\"w\",encoding=\"utf-8\")\n",
    "    wp.write('atp1, atp2, atp3, p1tp2, p1tp3, p2tp3\\n')\n",
    "    for num in range(0,len(data)):\n",
    "        wp.write(ans_list[data[num][0]]+\" \"+ans_list[data[num][1]]+\" \"+ans_list[data[num][2]]+\" \"+str(round(data[num][3],3))+\" \"+str(round(data_a2p[data[num][0]],3))+\" \"+str(round(data_a2p[data[num][1]],3))+\" \"+str(round(data_a2p[data[num][2]],3))+\" \"+str(round(data_p2p[data[num][0]][data[num][1]],3))+\" \"+str(round(data_p2p[data[num][0]][data[num][2]],3))+\" \"+str(round(data_p2p[data[num][1]][data[num][2]],3))+\"\\n\")\n",
    "    wp.close"
   ]
  },
  {
   "cell_type": "code",
   "execution_count": 53,
   "metadata": {},
   "outputs": [],
   "source": [
    "#找該題目的組合\n",
    "def find_a2p_pair(dictionary_a2p , data_a2p , data_p2p , key):\n",
    "    \n",
    "    a2p_pairdata = []\n",
    "    count_line = 0\n",
    "    problem_num = 0\n",
    "    print(key+' 處理中')\n",
    "    if(not key in AL_CBOW_Data):\n",
    "        return\n",
    "    for p1 in range(len(dictionary_a2p)-2):\n",
    "        if(not dictionary_a2p[p1] in AL_CBOW_Data):\n",
    "            print(dictionary_a2p[p1]+'out')\n",
    "            continue\n",
    "        #\n",
    "        atp1 = data_a2p[p1]\n",
    "\n",
    "        for p2 in range(p1+1,len(dictionary_a2p)-1):\n",
    "            if(not dictionary_a2p[p2] in AL_CBOW_Data):\n",
    "                print(dictionary_a2p[p2]+'out')\n",
    "                continue\n",
    "            #\n",
    "            atp2 = data_a2p[p2]\n",
    "            p1tp2 = data_p2p[p1][p2]\n",
    "            #\n",
    "            if(atp1 < p1tp2 or atp2 < p1tp2 or atp1 < 0.2 or atp1 > 0.45):\n",
    "                count_line+=1\n",
    "                continue\n",
    "\n",
    "            for p3 in range(p2+1,len(dictionary_a2p)):\n",
    "                if(not dictionary_a2p[p3] in AL_CBOW_Data):\n",
    "                    print(dictionary_a2p[p3]+'out')\n",
    "                    continue\n",
    "                #\n",
    "                atp3 = data_a2p[p3]\n",
    "                p1tp3 = data_p2p[p1][p3]\n",
    "                p2tp3 = data_p2p[p2][p3]\n",
    "                #\n",
    "                if(atp1 < p1tp3 or atp3 < p1tp3 or atp2 < p2tp3 or atp3 < p2tp3 or atp2 < 0.2 or atp2 > 0.45 or atp3 < 0.2 or atp3 > 0.45):\n",
    "                    count_line+=1\n",
    "                    continue\n",
    "\n",
    "                standard_all = standard( atp1, atp2, atp3, p1tp2, p1tp3, p2tp3)\n",
    "                a2p_pairdata.append ((p1 , p2 , p3 , standard_all))\n",
    "\n",
    "                #顯示進度\n",
    "                problem_num += 1\n",
    "                count_line+=1\n",
    "                if(count_line%1000 == 0):\n",
    "                    clear_output(wait=True)\n",
    "                    print(key+' 處理中 '+str(count_line))\n",
    "                    print('共有'+str(problem_num)+'題\\n')\n",
    "                    print(str(p1)+\" \"+str(p2)+\" \"+str(p3))\n",
    "                #顯示完畢\n",
    "\n",
    "    clear_output(wait=True)\n",
    "    print(key +' 整理！'+str(problem_num)+'/'+str(count_line))\n",
    "    datasort(dictionary_a2p , a2p_pairdata , key, data_a2p, data_p2p)\n",
    "    print('完成：'+key)\n",
    "                    \n",
    "    return\n",
    "                    "
   ]
  },
  {
   "cell_type": "code",
   "execution_count": 44,
   "metadata": {},
   "outputs": [],
   "source": [
    "#主程式之，找所有題目的題組\n",
    "def frequency_database_a2p_all():\n",
    "    pattern = '([\\p{Han}]+)' #抓漢字的正則運算法\n",
    "    \n",
    "    fp = open(\"../詞頻聯想/修正2頻3心像表格.txt\", \"r\" ,encoding=\"utf-8\",errors=\"ignore\")\n",
    "    \n",
    "    print('載入...')\n",
    "    line = fp.readline()\n",
    "    line = fp.readline()\n",
    "    while(line):\n",
    "        dictionary_a2p = []\n",
    "        key = regex.findall(pattern, line) #抓詞頻答案\n",
    "        line = fp.readline()\n",
    "        line = fp.readline()\n",
    "        line = fp.readline()\n",
    "        ans = regex.findall(pattern, line) #抓詞頻題組\n",
    "        dictionary_a2p = ans[2:]\n",
    "\n",
    "        clear_output(wait=True)\n",
    "        print('算距離階段')\n",
    "        data_a2p , data_p2p = ready_for_distance(dictionary_a2p,key[0])\n",
    "\n",
    "        clear_output(wait=True)\n",
    "        print('找題目階段')\n",
    "        find_a2p_pair(dictionary_a2p , data_a2p , data_p2p , key[0])\n",
    "\n",
    "        line = fp.readline()\n",
    "        clear_output(wait=True)\n",
    "        print('完成')\n",
    "    \n",
    "    fp.close\n",
    "    return"
   ]
  },
  {
   "cell_type": "code",
   "execution_count": 45,
   "metadata": {},
   "outputs": [],
   "source": [
    "#先將題庫對應題組做成dictionary\n",
    "def initial_frequency_database():\n",
    "    pattern = '([\\p{Han}]+)' #抓漢字的正則運算法\n",
    "    global frequency_database\n",
    "    frequency_database = {}\n",
    "    fp = open(\"../詞頻聯想/修正2頻3心像表格.txt\", \"r\" ,encoding=\"utf-8\",errors=\"ignore\")\n",
    "    \n",
    "    print('載入...')\n",
    "    line = fp.readline()\n",
    "    line = fp.readline()\n",
    "    \n",
    "    while(line):\n",
    "        key = regex.findall(pattern, line) #抓詞頻答案\n",
    "        line = fp.readline()\n",
    "        line = fp.readline()\n",
    "        line = fp.readline()\n",
    "        ans = regex.findall(pattern, line) #抓詞頻題組\n",
    "        frequency_database[key[0]] = ans[2:]\n",
    "        \n",
    "        line = fp.readline()\n",
    "    \n",
    "    clear_output(wait=True)\n",
    "    print('完成')\n",
    "    fp.close"
   ]
  },
  {
   "cell_type": "code",
   "execution_count": 46,
   "metadata": {},
   "outputs": [],
   "source": [
    "#主程式之二：指定特定詞來做題組\n",
    "def assign_frequency_database(key):\n",
    "    if not key in AL_CBOW_Data:\n",
    "        print('無此字')\n",
    "        return\n",
    "    dictionary_a2p = frequency_database[key]\n",
    "    clear_output(wait=True)\n",
    "    print('算距離階段')\n",
    "    data_a2p , data_p2p = ready_for_distance(dictionary_a2p,key)\n",
    "\n",
    "    clear_output(wait=True)\n",
    "    print('找題目階段')\n",
    "    find_a2p_pair(dictionary_a2p , data_a2p , data_p2p , key)\n",
    "\n",
    "    clear_output(wait=True)\n",
    "    print('完成')\n",
    "    \n",
    "    return"
   ]
  },
  {
   "cell_type": "code",
   "execution_count": 12,
   "metadata": {
    "scrolled": true
   },
   "outputs": [
    {
     "name": "stdout",
     "output_type": "stream",
     "text": [
      "完成\n"
     ]
    }
   ],
   "source": [
    "#load 向量集\n",
    "data = load_vectors('cc.zh.300.vec')"
   ]
  },
  {
   "cell_type": "code",
   "execution_count": 29,
   "metadata": {
    "collapsed": true
   },
   "outputs": [
    {
     "name": "stdout",
     "output_type": "stream",
     "text": [
      "計算第7數防禦\n"
     ]
    },
    {
     "ename": "KeyboardInterrupt",
     "evalue": "",
     "output_type": "error",
     "traceback": [
      "\u001b[1;31m---------------------------------------------------------------------------\u001b[0m",
      "\u001b[1;31mKeyboardInterrupt\u001b[0m                         Traceback (most recent call last)",
      "\u001b[1;32m<ipython-input-29-1e662c2aa360>\u001b[0m in \u001b[0;36m<module>\u001b[1;34m\u001b[0m\n\u001b[1;32m----> 1\u001b[1;33m \u001b[0mfrequency_database_a2p\u001b[0m\u001b[1;33m(\u001b[0m\u001b[1;33m)\u001b[0m\u001b[1;33m\u001b[0m\u001b[1;33m\u001b[0m\u001b[0m\n\u001b[0m",
      "\u001b[1;32m<ipython-input-11-2f6536f2c8fd>\u001b[0m in \u001b[0;36mfrequency_database_a2p\u001b[1;34m()\u001b[0m\n\u001b[0;32m     18\u001b[0m         \u001b[0mclear_output\u001b[0m\u001b[1;33m(\u001b[0m\u001b[0mwait\u001b[0m\u001b[1;33m=\u001b[0m\u001b[1;32mTrue\u001b[0m\u001b[1;33m)\u001b[0m\u001b[1;33m\u001b[0m\u001b[1;33m\u001b[0m\u001b[0m\n\u001b[0;32m     19\u001b[0m         \u001b[0mprint\u001b[0m\u001b[1;33m(\u001b[0m\u001b[1;34m'算距離階段'\u001b[0m\u001b[1;33m)\u001b[0m\u001b[1;33m\u001b[0m\u001b[1;33m\u001b[0m\u001b[0m\n\u001b[1;32m---> 20\u001b[1;33m         \u001b[0mdata_a2p\u001b[0m \u001b[1;33m,\u001b[0m \u001b[0mdata_p2p\u001b[0m \u001b[1;33m=\u001b[0m \u001b[0mready_for_distance\u001b[0m\u001b[1;33m(\u001b[0m\u001b[0mdictionary_a2p\u001b[0m\u001b[1;33m,\u001b[0m\u001b[0mkey\u001b[0m\u001b[1;33m[\u001b[0m\u001b[1;36m0\u001b[0m\u001b[1;33m]\u001b[0m\u001b[1;33m)\u001b[0m\u001b[1;33m\u001b[0m\u001b[1;33m\u001b[0m\u001b[0m\n\u001b[0m\u001b[0;32m     21\u001b[0m \u001b[1;33m\u001b[0m\u001b[0m\n\u001b[0;32m     22\u001b[0m         \u001b[0mclear_output\u001b[0m\u001b[1;33m(\u001b[0m\u001b[0mwait\u001b[0m\u001b[1;33m=\u001b[0m\u001b[1;32mTrue\u001b[0m\u001b[1;33m)\u001b[0m\u001b[1;33m\u001b[0m\u001b[1;33m\u001b[0m\u001b[0m\n",
      "\u001b[1;32m<ipython-input-7-d47986928a2a>\u001b[0m in \u001b[0;36mready_for_distance\u001b[1;34m(dictionary_a2p, key)\u001b[0m\n\u001b[0;32m     14\u001b[0m         \u001b[0mprint\u001b[0m\u001b[1;33m(\u001b[0m\u001b[1;34m'計算'\u001b[0m \u001b[1;33m+\u001b[0m\u001b[1;34m'第'\u001b[0m\u001b[1;33m+\u001b[0m\u001b[0mstr\u001b[0m\u001b[1;33m(\u001b[0m\u001b[0mi\u001b[0m\u001b[1;33m)\u001b[0m\u001b[1;33m+\u001b[0m\u001b[1;34m'數'\u001b[0m\u001b[1;33m+\u001b[0m \u001b[0mdictionary_a2p\u001b[0m\u001b[1;33m[\u001b[0m\u001b[0mi\u001b[0m\u001b[1;33m]\u001b[0m\u001b[1;33m)\u001b[0m\u001b[1;33m\u001b[0m\u001b[1;33m\u001b[0m\u001b[0m\n\u001b[0;32m     15\u001b[0m         \u001b[1;32mfor\u001b[0m \u001b[0mj\u001b[0m \u001b[1;32min\u001b[0m \u001b[0mrange\u001b[0m\u001b[1;33m(\u001b[0m\u001b[0mi\u001b[0m\u001b[1;33m+\u001b[0m\u001b[1;36m1\u001b[0m\u001b[1;33m,\u001b[0m\u001b[0mlen\u001b[0m\u001b[1;33m(\u001b[0m\u001b[0mdictionary_a2p\u001b[0m\u001b[1;33m)\u001b[0m\u001b[1;33m)\u001b[0m\u001b[1;33m:\u001b[0m\u001b[1;33m\u001b[0m\u001b[1;33m\u001b[0m\u001b[0m\n\u001b[1;32m---> 16\u001b[1;33m             \u001b[0mdata_p2p\u001b[0m\u001b[1;33m[\u001b[0m\u001b[0mi\u001b[0m\u001b[1;33m]\u001b[0m\u001b[1;33m[\u001b[0m\u001b[0mj\u001b[0m\u001b[1;33m]\u001b[0m \u001b[1;33m=\u001b[0m \u001b[0mcosine_meansure\u001b[0m\u001b[1;33m(\u001b[0m\u001b[0mdictionary_a2p\u001b[0m\u001b[1;33m[\u001b[0m\u001b[0mi\u001b[0m\u001b[1;33m]\u001b[0m\u001b[1;33m,\u001b[0m\u001b[0mdictionary_a2p\u001b[0m\u001b[1;33m[\u001b[0m\u001b[0mj\u001b[0m\u001b[1;33m]\u001b[0m\u001b[1;33m)\u001b[0m\u001b[1;33m\u001b[0m\u001b[1;33m\u001b[0m\u001b[0m\n\u001b[0m\u001b[0;32m     17\u001b[0m             \u001b[1;31m#print('第'+str(i)+'數'+dictionary_a2p[i]+'與'+str(j)+'數'+dictionary_a2p[j]+'：'+str(data_p2p[i][j]))\u001b[0m\u001b[1;33m\u001b[0m\u001b[1;33m\u001b[0m\u001b[1;33m\u001b[0m\u001b[0m\n\u001b[0;32m     18\u001b[0m \u001b[1;33m\u001b[0m\u001b[0m\n",
      "\u001b[1;32m<ipython-input-6-e64e440b39e1>\u001b[0m in \u001b[0;36mcosine_meansure\u001b[1;34m(word1, word2)\u001b[0m\n\u001b[0;32m      1\u001b[0m \u001b[1;32mdef\u001b[0m \u001b[0mcosine_meansure\u001b[0m\u001b[1;33m(\u001b[0m\u001b[0mword1\u001b[0m\u001b[1;33m,\u001b[0m\u001b[0mword2\u001b[0m\u001b[1;33m)\u001b[0m\u001b[1;33m:\u001b[0m\u001b[1;33m\u001b[0m\u001b[1;33m\u001b[0m\u001b[0m\n\u001b[0;32m      2\u001b[0m     \u001b[0mword1\u001b[0m \u001b[1;33m=\u001b[0m \u001b[0mOpenCC\u001b[0m\u001b[1;33m(\u001b[0m\u001b[1;34m's2t'\u001b[0m\u001b[1;33m)\u001b[0m\u001b[1;33m.\u001b[0m\u001b[0mconvert\u001b[0m\u001b[1;33m(\u001b[0m\u001b[0mword1\u001b[0m\u001b[1;33m)\u001b[0m\u001b[1;33m\u001b[0m\u001b[1;33m\u001b[0m\u001b[0m\n\u001b[1;32m----> 3\u001b[1;33m     \u001b[0mword2\u001b[0m \u001b[1;33m=\u001b[0m \u001b[0mOpenCC\u001b[0m\u001b[1;33m(\u001b[0m\u001b[1;34m's2t'\u001b[0m\u001b[1;33m)\u001b[0m\u001b[1;33m.\u001b[0m\u001b[0mconvert\u001b[0m\u001b[1;33m(\u001b[0m\u001b[0mword2\u001b[0m\u001b[1;33m)\u001b[0m\u001b[1;33m\u001b[0m\u001b[1;33m\u001b[0m\u001b[0m\n\u001b[0m\u001b[0;32m      4\u001b[0m     \u001b[1;31m#判斷此兩個詞是否有出現過\u001b[0m\u001b[1;33m\u001b[0m\u001b[1;33m\u001b[0m\u001b[1;33m\u001b[0m\u001b[0m\n\u001b[0;32m      5\u001b[0m     \u001b[1;32mif\u001b[0m \u001b[1;33m(\u001b[0m\u001b[1;32mnot\u001b[0m \u001b[0mword1\u001b[0m \u001b[1;32min\u001b[0m \u001b[0mAL_CBOW_Data\u001b[0m\u001b[1;33m)\u001b[0m \u001b[1;33m:\u001b[0m\u001b[1;33m\u001b[0m\u001b[1;33m\u001b[0m\u001b[0m\n",
      "\u001b[1;32mD:\\Anaconda\\lib\\site-packages\\opencc\\opencc.py\u001b[0m in \u001b[0;36m__init__\u001b[1;34m(self, conversion)\u001b[0m\n\u001b[0;32m     53\u001b[0m             r'(\\s+|-|,|\\.|\\?|!|\\*|　|，|。|、|；|：|？|！|…|“|”|‘|’|『|』|「|」|﹁|﹂|—|－|（|）|《|》|〈|〉|～|．|／|＼|︒|︑|︔|︓|︿|﹀|︹|︺|︙|︐|［|﹇|］|﹈|︕|︖|︰|︳|︴|︽|︾|︵|︶|｛|︷|｝|︸|﹃|﹄|【|︻|】|︼)')\n\u001b[0;32m     54\u001b[0m         \u001b[1;32mif\u001b[0m \u001b[0mself\u001b[0m\u001b[1;33m.\u001b[0m\u001b[0mconversion\u001b[0m \u001b[1;32mis\u001b[0m \u001b[1;32mnot\u001b[0m \u001b[1;32mNone\u001b[0m\u001b[1;33m:\u001b[0m\u001b[1;33m\u001b[0m\u001b[1;33m\u001b[0m\u001b[0m\n\u001b[1;32m---> 55\u001b[1;33m             \u001b[0mself\u001b[0m\u001b[1;33m.\u001b[0m\u001b[0m_init_dict\u001b[0m\u001b[1;33m(\u001b[0m\u001b[1;33m)\u001b[0m\u001b[1;33m\u001b[0m\u001b[1;33m\u001b[0m\u001b[0m\n\u001b[0m\u001b[0;32m     56\u001b[0m \u001b[1;33m\u001b[0m\u001b[0m\n\u001b[0;32m     57\u001b[0m     \u001b[1;32mdef\u001b[0m \u001b[0mconvert\u001b[0m\u001b[1;33m(\u001b[0m\u001b[0mself\u001b[0m\u001b[1;33m,\u001b[0m \u001b[0mstring\u001b[0m\u001b[1;33m)\u001b[0m\u001b[1;33m:\u001b[0m\u001b[1;33m\u001b[0m\u001b[1;33m\u001b[0m\u001b[0m\n",
      "\u001b[1;32mD:\\Anaconda\\lib\\site-packages\\opencc\\opencc.py\u001b[0m in \u001b[0;36m_init_dict\u001b[1;34m(self)\u001b[0m\n\u001b[0;32m    123\u001b[0m \u001b[1;33m\u001b[0m\u001b[0m\n\u001b[0;32m    124\u001b[0m         \u001b[0mself\u001b[0m\u001b[1;33m.\u001b[0m\u001b[0m_dict_chain_data\u001b[0m \u001b[1;33m=\u001b[0m \u001b[1;33m[\u001b[0m\u001b[1;33m]\u001b[0m\u001b[1;33m\u001b[0m\u001b[1;33m\u001b[0m\u001b[0m\n\u001b[1;32m--> 125\u001b[1;33m         \u001b[0mself\u001b[0m\u001b[1;33m.\u001b[0m\u001b[0m_add_dictionaries\u001b[0m\u001b[1;33m(\u001b[0m\u001b[0mself\u001b[0m\u001b[1;33m.\u001b[0m\u001b[0m_dict_chain\u001b[0m\u001b[1;33m,\u001b[0m \u001b[0mself\u001b[0m\u001b[1;33m.\u001b[0m\u001b[0m_dict_chain_data\u001b[0m\u001b[1;33m)\u001b[0m\u001b[1;33m\u001b[0m\u001b[1;33m\u001b[0m\u001b[0m\n\u001b[0m\u001b[0;32m    126\u001b[0m         \u001b[0mself\u001b[0m\u001b[1;33m.\u001b[0m\u001b[0m_dict_init_done\u001b[0m \u001b[1;33m=\u001b[0m \u001b[1;32mTrue\u001b[0m\u001b[1;33m\u001b[0m\u001b[1;33m\u001b[0m\u001b[0m\n\u001b[0;32m    127\u001b[0m \u001b[1;33m\u001b[0m\u001b[0m\n",
      "\u001b[1;32mD:\\Anaconda\\lib\\site-packages\\opencc\\opencc.py\u001b[0m in \u001b[0;36m_add_dictionaries\u001b[1;34m(self, chain_list, chain_data)\u001b[0m\n\u001b[0;32m    130\u001b[0m             \u001b[1;32mif\u001b[0m \u001b[0misinstance\u001b[0m\u001b[1;33m(\u001b[0m\u001b[0mitem\u001b[0m\u001b[1;33m,\u001b[0m \u001b[0mlist\u001b[0m\u001b[1;33m)\u001b[0m\u001b[1;33m:\u001b[0m\u001b[1;33m\u001b[0m\u001b[1;33m\u001b[0m\u001b[0m\n\u001b[0;32m    131\u001b[0m                 \u001b[0mchain\u001b[0m \u001b[1;33m=\u001b[0m \u001b[1;33m[\u001b[0m\u001b[1;33m]\u001b[0m\u001b[1;33m\u001b[0m\u001b[1;33m\u001b[0m\u001b[0m\n\u001b[1;32m--> 132\u001b[1;33m                 \u001b[0mself\u001b[0m\u001b[1;33m.\u001b[0m\u001b[0m_add_dictionaries\u001b[0m\u001b[1;33m(\u001b[0m\u001b[0mitem\u001b[0m\u001b[1;33m,\u001b[0m \u001b[0mchain\u001b[0m\u001b[1;33m)\u001b[0m\u001b[1;33m\u001b[0m\u001b[1;33m\u001b[0m\u001b[0m\n\u001b[0m\u001b[0;32m    133\u001b[0m                 \u001b[0mchain_data\u001b[0m\u001b[1;33m.\u001b[0m\u001b[0mappend\u001b[0m\u001b[1;33m(\u001b[0m\u001b[0mchain\u001b[0m\u001b[1;33m)\u001b[0m\u001b[1;33m\u001b[0m\u001b[1;33m\u001b[0m\u001b[0m\n\u001b[0;32m    134\u001b[0m             \u001b[1;32melse\u001b[0m\u001b[1;33m:\u001b[0m\u001b[1;33m\u001b[0m\u001b[1;33m\u001b[0m\u001b[0m\n",
      "\u001b[1;32mD:\\Anaconda\\lib\\site-packages\\opencc\\opencc.py\u001b[0m in \u001b[0;36m_add_dictionaries\u001b[1;34m(self, chain_list, chain_data)\u001b[0m\n\u001b[0;32m    137\u001b[0m                     \u001b[0mmax_len\u001b[0m \u001b[1;33m=\u001b[0m \u001b[1;36m1\u001b[0m\u001b[1;33m\u001b[0m\u001b[1;33m\u001b[0m\u001b[0m\n\u001b[0;32m    138\u001b[0m                     \u001b[1;32mwith\u001b[0m \u001b[0mio\u001b[0m\u001b[1;33m.\u001b[0m\u001b[0mopen\u001b[0m\u001b[1;33m(\u001b[0m\u001b[0mitem\u001b[0m\u001b[1;33m,\u001b[0m \u001b[1;34m\"r\"\u001b[0m\u001b[1;33m,\u001b[0m \u001b[0mencoding\u001b[0m\u001b[1;33m=\u001b[0m\u001b[1;34m\"utf-8\"\u001b[0m\u001b[1;33m)\u001b[0m \u001b[1;32mas\u001b[0m \u001b[0mf\u001b[0m\u001b[1;33m:\u001b[0m\u001b[1;33m\u001b[0m\u001b[1;33m\u001b[0m\u001b[0m\n\u001b[1;32m--> 139\u001b[1;33m                         \u001b[1;32mfor\u001b[0m \u001b[0mline\u001b[0m \u001b[1;32min\u001b[0m \u001b[0mf\u001b[0m\u001b[1;33m:\u001b[0m\u001b[1;33m\u001b[0m\u001b[1;33m\u001b[0m\u001b[0m\n\u001b[0m\u001b[0;32m    140\u001b[0m                             \u001b[0mkey\u001b[0m\u001b[1;33m,\u001b[0m \u001b[0mvalue\u001b[0m \u001b[1;33m=\u001b[0m \u001b[0mline\u001b[0m\u001b[1;33m.\u001b[0m\u001b[0mstrip\u001b[0m\u001b[1;33m(\u001b[0m\u001b[1;33m)\u001b[0m\u001b[1;33m.\u001b[0m\u001b[0msplit\u001b[0m\u001b[1;33m(\u001b[0m\u001b[1;34m'\\t'\u001b[0m\u001b[1;33m)\u001b[0m\u001b[1;33m\u001b[0m\u001b[1;33m\u001b[0m\u001b[0m\n\u001b[0;32m    141\u001b[0m                             \u001b[0mmap_dict\u001b[0m\u001b[1;33m[\u001b[0m\u001b[0mkey\u001b[0m\u001b[1;33m]\u001b[0m \u001b[1;33m=\u001b[0m \u001b[0mvalue\u001b[0m\u001b[1;33m\u001b[0m\u001b[1;33m\u001b[0m\u001b[0m\n",
      "\u001b[1;32mD:\\Anaconda\\lib\\codecs.py\u001b[0m in \u001b[0;36mdecode\u001b[1;34m(self, input, final)\u001b[0m\n\u001b[0;32m    317\u001b[0m         \u001b[1;32mraise\u001b[0m \u001b[0mNotImplementedError\u001b[0m\u001b[1;33m\u001b[0m\u001b[1;33m\u001b[0m\u001b[0m\n\u001b[0;32m    318\u001b[0m \u001b[1;33m\u001b[0m\u001b[0m\n\u001b[1;32m--> 319\u001b[1;33m     \u001b[1;32mdef\u001b[0m \u001b[0mdecode\u001b[0m\u001b[1;33m(\u001b[0m\u001b[0mself\u001b[0m\u001b[1;33m,\u001b[0m \u001b[0minput\u001b[0m\u001b[1;33m,\u001b[0m \u001b[0mfinal\u001b[0m\u001b[1;33m=\u001b[0m\u001b[1;32mFalse\u001b[0m\u001b[1;33m)\u001b[0m\u001b[1;33m:\u001b[0m\u001b[1;33m\u001b[0m\u001b[1;33m\u001b[0m\u001b[0m\n\u001b[0m\u001b[0;32m    320\u001b[0m         \u001b[1;31m# decode input (taking the buffer into account)\u001b[0m\u001b[1;33m\u001b[0m\u001b[1;33m\u001b[0m\u001b[1;33m\u001b[0m\u001b[0m\n\u001b[0;32m    321\u001b[0m         \u001b[0mdata\u001b[0m \u001b[1;33m=\u001b[0m \u001b[0mself\u001b[0m\u001b[1;33m.\u001b[0m\u001b[0mbuffer\u001b[0m \u001b[1;33m+\u001b[0m \u001b[0minput\u001b[0m\u001b[1;33m\u001b[0m\u001b[1;33m\u001b[0m\u001b[0m\n",
      "\u001b[1;31mKeyboardInterrupt\u001b[0m: "
     ]
    }
   ],
   "source": [
    "#主程式之，找所有題目的題組\n",
    "frequency_database_a2p()"
   ]
  },
  {
   "cell_type": "code",
   "execution_count": 19,
   "metadata": {},
   "outputs": [
    {
     "name": "stdout",
     "output_type": "stream",
     "text": [
      "完成\n"
     ]
    }
   ],
   "source": [
    "#初始化題庫\n",
    "initial_frequency_database()"
   ]
  },
  {
   "cell_type": "code",
   "execution_count": 47,
   "metadata": {},
   "outputs": [
    {
     "name": "stdout",
     "output_type": "stream",
     "text": [
      "完成\n"
     ]
    }
   ],
   "source": [
    "#主程式之二：指定特定詞來做題組\n",
    "assign_frequency_database('月亮')"
   ]
  },
  {
   "cell_type": "code",
   "execution_count": 33,
   "metadata": {},
   "outputs": [
    {
     "data": {
      "text/plain": [
       "0.3492052215166766"
      ]
     },
     "execution_count": 33,
     "metadata": {},
     "output_type": "execute_result"
    }
   ],
   "source": [
    "cosine_meansure('月亮','耳朵')"
   ]
  },
  {
   "cell_type": "code",
   "execution_count": 48,
   "metadata": {},
   "outputs": [
    {
     "name": "stdout",
     "output_type": "stream",
     "text": [
      "完成\n"
     ]
    }
   ],
   "source": [
    "assign_frequency_database('瀑布')\n"
   ]
  },
  {
   "cell_type": "code",
   "execution_count": 52,
   "metadata": {},
   "outputs": [
    {
     "name": "stdout",
     "output_type": "stream",
     "text": [
      "完成\n"
     ]
    }
   ],
   "source": [
    "assign_frequency_database('車禍')"
   ]
  },
  {
   "cell_type": "code",
   "execution_count": null,
   "metadata": {},
   "outputs": [],
   "source": []
  }
 ],
 "metadata": {
  "kernelspec": {
   "display_name": "Python 3",
   "language": "python",
   "name": "python3"
  },
  "language_info": {
   "codemirror_mode": {
    "name": "ipython",
    "version": 3
   },
   "file_extension": ".py",
   "mimetype": "text/x-python",
   "name": "python",
   "nbconvert_exporter": "python",
   "pygments_lexer": "ipython3",
   "version": "3.7.3"
  }
 },
 "nbformat": 4,
 "nbformat_minor": 2
}
